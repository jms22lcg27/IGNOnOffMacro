{
 "cells": [
  {
   "cell_type": "code",
   "execution_count": null,
   "metadata": {},
   "outputs": [],
   "source": [
    "pip install pyautogui"
   ]
  },
  {
   "cell_type": "code",
   "execution_count": null,
   "metadata": {},
   "outputs": [],
   "source": [
    "pip install keyboard"
   ]
  },
  {
   "cell_type": "code",
   "execution_count": 2,
   "metadata": {},
   "outputs": [
    {
     "name": "stdout",
     "output_type": "stream",
     "text": [
      "Point(x=478, y=735) start\n",
      "Point(x=208, y=743) on\n",
      "Point(x=273, y=743) off\n"
     ]
    }
   ],
   "source": [
    "#걍 코드\n",
    "\n",
    "import pyautogui as p\n",
    "import keyboard\n",
    "import time\n",
    "\n",
    "while True:\n",
    "    while True:\n",
    "        if keyboard.is_pressed('1'):\n",
    "            start_btn = p.position()\n",
    "            print(start_btn,\"start\")\n",
    "            break\n",
    "    while True:\n",
    "        if keyboard.is_pressed('2'):\n",
    "            on_btn = p.position()\n",
    "            print(on_btn,\"on\")\n",
    "            break\n",
    "    while True:\n",
    "        if keyboard.is_pressed('3'):\n",
    "            off_btn = p.position()\n",
    "            print(off_btn,\"off\")\n",
    "            break\n",
    "    break\n",
    "\n",
    "# ign on 에서 시작    \n",
    "for i in range(29):\n",
    "    p.click(start_btn)\n",
    "    p.click(off_btn)\n",
    "    time.sleep(0.4)\n",
    "    p.click(start_btn)\n",
    "    p.click(on_btn)\n",
    "    time.sleep(0.4)"
   ]
  },
  {
   "cell_type": "code",
   "execution_count": null,
   "metadata": {},
   "outputs": [],
   "source": [
    "#GUI 적용 exe 파일 만들 코드\n",
    "\n",
    "import pyautogui as p\n",
    "import keyboard\n",
    "import time\n",
    "import tkinter as tk\n",
    "start_btn=0\n",
    "on_btn=0\n",
    "off_btn=0\n",
    "\n",
    "def key(event):\n",
    "    key = event.keysym\n",
    "    print(key)\n",
    "    if key == 'Up':\n",
    "        start_btn = p.position()\n",
    "        #btn_list[0]==start_btn\n",
    "        print(start_btn)\n",
    "        btn1.config(text=start_btn)\n",
    "        #btn1.config(text=(\"X=\",start_btn.x,\" Y=\",start_btn.y))\n",
    "    elif key == 'Left':\n",
    "        on_btn = p.position()\n",
    "        #btn_list[1]==on_btn\n",
    "        print(on_btn)\n",
    "        btn2.config(text=on_btn)\n",
    "    elif key == 'Right':\n",
    "        off_btn = p.position()\n",
    "        #btn_list[2]==off_btn\n",
    "        print(off_btn)\n",
    "        btn3.config(text=off_btn)\n",
    "    else:\n",
    "        btn1.config(text=\"잘못된 버튼입니다. 다시 입력하세요.\")\n",
    "        btn2.config(text=\"잘못된 버튼입니다. 다시 입력하세요.\")\n",
    "        btn3.config(text=\"잘못된 버튼입니다. 다시 입력하세요.\")\n",
    "\n",
    "def click():\n",
    "    \n",
    "    btn.config(text=\"실행 중\", bg=\"red\")\n",
    "    for i in range(2):#29\n",
    "        p.click(start_btn) # start_btn\n",
    "        p.click(off_btn) # off_btn\n",
    "        time.sleep(0.4)\n",
    "        p.click(start_btn) # start_btn\n",
    "        p.click(on_btn) # on_btn\n",
    "        time.sleep(0.4)\n",
    "    btn.config(text=\"Start\", bg=\"green\")\n",
    "    \n",
    "        \n",
    "window=tk.Tk()\n",
    "\n",
    "window.title(\"IGN ON/OFF MACRO\")\n",
    "window.geometry(\"640x400+100+100\")\n",
    "window.resizable(True, True) # 창 조절 가능\n",
    "\n",
    "label=tk.Label(window, text=\"IGN ON 상태에서 시작 \\n좌표 입력 후 Start\", width=30, height=5)\n",
    "label.pack()\n",
    "btn1=tk.Button(window,text=\"키보드 1\",padx=30, pady=5, fg=\"black\", bg=\"white\")\n",
    "btn1.pack()\n",
    "btn2=tk.Button(window,text=\"키보드 2\",padx=30, pady=5, fg=\"black\", bg=\"white\")\n",
    "btn2.pack()\n",
    "btn3=tk.Button(window,text=\"키보드 3\",padx=30, pady=5, fg=\"black\", bg=\"white\")\n",
    "btn3.pack()\n",
    "btn=tk.Button(window,text=\"Start\", padx=30, pady=15, fg=\"white\", bg=\"green\", command=click)\n",
    "btn.pack()\n",
    "\n",
    "window.bind(\"<Key>\",key)\n",
    "#window.bind(\"<Left>\",key)\n",
    "#window.bind(\"<Right>\",key)\n",
    "\n",
    "\n",
    "window.mainloop() #창 닫을때까지 유지"
   ]
  }
 ],
 "metadata": {
  "kernelspec": {
   "display_name": "Python 3",
   "language": "python",
   "name": "python3"
  },
  "language_info": {
   "codemirror_mode": {
    "name": "ipython",
    "version": 3
   },
   "file_extension": ".py",
   "mimetype": "text/x-python",
   "name": "python",
   "nbconvert_exporter": "python",
   "pygments_lexer": "ipython3",
   "version": "3.7.6"
  }
 },
 "nbformat": 4,
 "nbformat_minor": 4
}
